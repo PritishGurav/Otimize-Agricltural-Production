{
 "cells": [
  {
   "cell_type": "markdown",
   "id": "c661a49c-cbf9-40db-b9e5-45f97c26f694",
   "metadata": {},
   "source": [
    "# WEATHER REPORT APP"
   ]
  },
  {
   "cell_type": "code",
   "execution_count": 1,
   "id": "047facbf-ea51-436d-93f5-ff1b9d1a82a1",
   "metadata": {},
   "outputs": [],
   "source": [
    "from tkinter import *\n",
    "from tkinter import  ttk\n",
    "import  requests\n",
    "\n",
    "def data_get():\n",
    "    city = city_name.get()\n",
    "    data = requests.get(\"https://api.openweathermap.org/data/2.5/weather?q=\"+city+\"&appid=694882066401cee13648ed6813252998\").json()\n",
    "    w_label1.config(text=data[\"weather\"][0][\"main\"])\n",
    "    wb_label1.config(text=data[\"weather\"][0][\"description\"])\n",
    "    temp_label1.config(text=str(int(data[\"main\"][\"temp\"]-273.15)))\n",
    "    per_label1.config(text=data[\"main\"][\"pressure\"])\n",
    "\n",
    "\n",
    "win = Tk()\n",
    "win.title(\"Pgurav Tech\")\n",
    "win.config(bg=\"Light blue\")\n",
    "win.geometry(\"500x570\")\n",
    "\n",
    "name_label = Label(win,text=\"Weather App\",\n",
    "                   font=(\"Time New Roman\",30,\"bold\"))\n",
    "name_label.place(x=25,y=50,height=50,width=450)\n",
    "\n",
    "city_name = StringVar()\n",
    "list_name = [\"Andhra Pradesh\",\"Arunachal Pradesh \",\"Assam\",\"Bihar\",\"Chhattisgarh\",\"Goa\",\"Gujarat\",\"Haryana\",\"Himachal Pradesh\",\"Jammu and Kashmir\",\"Jharkhand\",\"Karnataka\",\"Kerala\",\"Madhya Pradesh\",\"Maharashtra\",\"Manipur\",\"Meghalaya\",\"Mizoram\",\"Nagaland\",\"Odisha\",\"Punjab\",\"Rajasthan\",\"Sikkim\",\"Tamil Nadu\",\"Telangana\",\"Tripura\",\"Uttar Pradesh\",\"Uttarakhand\",\"West Bengal\",\"Andaman and Nicobar Islands\",\"Chandigarh\",\"Dadra and Nagar Haveli\",\"Daman and Diu\",\"Lakshadweep\",\"National Capital Territory of Delhi\",\"Puducherry\"]\n",
    "com = ttk.Combobox(win,text=\"Pgurav Whether App\",values=list_name,\n",
    "                   font=(\"Time New Roman\",20,\"bold\"),textvariable=city_name)\n",
    "com.place(x=25,y=120,height=50,width=450)\n",
    "\n",
    "w_label = Label(win,text=\"Weather Climate\",\n",
    "                   font=(\"Time New Roman\",20))\n",
    "w_label.place(x=25,y=260,height=50,width=210)\n",
    "w_label1 = Label(win,text=\"\",\n",
    "                   font=(\"Time New Roman\",20))\n",
    "w_label1.place(x=250,y=260,height=50,width=210)\n",
    "\n",
    "\n",
    "wb_label = Label(win,text=\"Weather Description\",\n",
    "                   font=(\"Time New Roman\",17))\n",
    "wb_label.place(x=25,y=330,height=50,width=210)\n",
    "wb_label1 = Label(win,text=\"\",\n",
    "                  font=(\"Time New Roman\",17))\n",
    "wb_label1.place(x=250,y=330,height=50,width=210)\n",
    "\n",
    "\n",
    "temp_label = Label(win,text=\"Temperature\",\n",
    "                   font=(\"Time New Roman\",20))\n",
    "temp_label.place(x=25,y=400,height=50,width=210)\n",
    "temp_label1 = Label(win,text=\"\",\n",
    "                   font=(\"Time New Roman\",20))\n",
    "temp_label1.place(x=250,y=400,height=50,width=210)\n",
    "\n",
    "per_label = Label(win,text=\"Pressure\",\n",
    "                   font=(\"Time New Roman\",20))\n",
    "per_label.place(x=25,y=470,height=50,width=210)\n",
    "per_label1 = Label(win,text=\"\",\n",
    "                   font=(\"Time New Roman\",20))\n",
    "per_label1.place(x=250,y=470,height=50,width=210)\n",
    "\n",
    "done_button = Button(win,text=\"Done\",\n",
    "                   font=(\"Time New Roman\",20,\"bold\"),command=data_get)\n",
    "done_button.place(y=190,height=50,width=100,x=200)\n",
    "\n",
    "win.mainloop()\n",
    "\n"
   ]
  },
  {
   "cell_type": "code",
   "execution_count": null,
   "id": "7ef2b51b-404d-4711-a1c0-e5f0c9771ac8",
   "metadata": {},
   "outputs": [],
   "source": []
  }
 ],
 "metadata": {
  "kernelspec": {
   "display_name": "Python 3 (ipykernel)",
   "language": "python",
   "name": "python3"
  },
  "language_info": {
   "codemirror_mode": {
    "name": "ipython",
    "version": 3
   },
   "file_extension": ".py",
   "mimetype": "text/x-python",
   "name": "python",
   "nbconvert_exporter": "python",
   "pygments_lexer": "ipython3",
   "version": "3.11.5"
  }
 },
 "nbformat": 4,
 "nbformat_minor": 5
}
